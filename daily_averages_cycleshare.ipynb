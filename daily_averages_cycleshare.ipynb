{
 "cells": [
  {
   "cell_type": "markdown",
   "metadata": {},
   "source": [
    "# Computing daily averages from transaction data using pandas can be tricky - Part 1\n",
    "\n",
    "Recently I watched an [interesting talk at PyCon 2018 on subtleties involved in computing time related averages](https://www.youtube.com/watch?v=DlgG0QdrqAU) using pandas and SQL. While the talk raised some interesting points, it reminded me of another important \"gotcha\" related to computing such statistics. \n",
    "\n",
    "We'll use the `trip.csv` datafile from the [Pronto Cycleshare Dataset](https://www.kaggle.com/pronto/cycle-share-dataset). You can get this notebook from https://github.com/misken/daily-averages.\n",
    "\n",
    "Our goal is to compute statistics such as the average number of bikes rented per day, both overall and for individual stations. Seems easy. We'll see."
   ]
  },
  {
   "cell_type": "code",
   "execution_count": 1,
   "metadata": {},
   "outputs": [],
   "source": [
    "import pandas as pd"
   ]
  },
  {
   "cell_type": "code",
   "execution_count": 2,
   "metadata": {},
   "outputs": [],
   "source": [
    "trip = pd.read_csv('trip.csv', parse_dates = ['starttime', 'stoptime'])"
   ]
  },
  {
   "cell_type": "code",
   "execution_count": 3,
   "metadata": {},
   "outputs": [
    {
     "name": "stdout",
     "output_type": "stream",
     "text": [
      "<class 'pandas.core.frame.DataFrame'>\n",
      "RangeIndex: 286857 entries, 0 to 286856\n",
      "Data columns (total 12 columns):\n",
      "trip_id              286857 non-null int64\n",
      "starttime            286857 non-null datetime64[ns]\n",
      "stoptime             286857 non-null datetime64[ns]\n",
      "bikeid               286857 non-null object\n",
      "tripduration         286857 non-null float64\n",
      "from_station_name    286857 non-null object\n",
      "to_station_name      286857 non-null object\n",
      "from_station_id      286857 non-null object\n",
      "to_station_id        286857 non-null object\n",
      "usertype             286857 non-null object\n",
      "gender               181557 non-null object\n",
      "birthyear            181553 non-null float64\n",
      "dtypes: datetime64[ns](2), float64(2), int64(1), object(7)\n",
      "memory usage: 26.3+ MB\n"
     ]
    }
   ],
   "source": [
    "trip.info()"
   ]
  },
  {
   "cell_type": "code",
   "execution_count": 4,
   "metadata": {},
   "outputs": [
    {
     "data": {
      "text/html": [
       "<div>\n",
       "<style scoped>\n",
       "    .dataframe tbody tr th:only-of-type {\n",
       "        vertical-align: middle;\n",
       "    }\n",
       "\n",
       "    .dataframe tbody tr th {\n",
       "        vertical-align: top;\n",
       "    }\n",
       "\n",
       "    .dataframe thead th {\n",
       "        text-align: right;\n",
       "    }\n",
       "</style>\n",
       "<table border=\"1\" class=\"dataframe\">\n",
       "  <thead>\n",
       "    <tr style=\"text-align: right;\">\n",
       "      <th></th>\n",
       "      <th>trip_id</th>\n",
       "      <th>starttime</th>\n",
       "      <th>stoptime</th>\n",
       "      <th>bikeid</th>\n",
       "      <th>tripduration</th>\n",
       "      <th>from_station_name</th>\n",
       "      <th>to_station_name</th>\n",
       "      <th>from_station_id</th>\n",
       "      <th>to_station_id</th>\n",
       "      <th>usertype</th>\n",
       "      <th>gender</th>\n",
       "      <th>birthyear</th>\n",
       "    </tr>\n",
       "  </thead>\n",
       "  <tbody>\n",
       "    <tr>\n",
       "      <th>0</th>\n",
       "      <td>431</td>\n",
       "      <td>2014-10-13 10:31:00</td>\n",
       "      <td>2014-10-13 10:48:00</td>\n",
       "      <td>SEA00298</td>\n",
       "      <td>985.935</td>\n",
       "      <td>2nd Ave &amp; Spring St</td>\n",
       "      <td>Occidental Park / Occidental Ave S &amp; S Washing...</td>\n",
       "      <td>CBD-06</td>\n",
       "      <td>PS-04</td>\n",
       "      <td>Member</td>\n",
       "      <td>Male</td>\n",
       "      <td>1960.0</td>\n",
       "    </tr>\n",
       "    <tr>\n",
       "      <th>1</th>\n",
       "      <td>432</td>\n",
       "      <td>2014-10-13 10:32:00</td>\n",
       "      <td>2014-10-13 10:48:00</td>\n",
       "      <td>SEA00195</td>\n",
       "      <td>926.375</td>\n",
       "      <td>2nd Ave &amp; Spring St</td>\n",
       "      <td>Occidental Park / Occidental Ave S &amp; S Washing...</td>\n",
       "      <td>CBD-06</td>\n",
       "      <td>PS-04</td>\n",
       "      <td>Member</td>\n",
       "      <td>Male</td>\n",
       "      <td>1970.0</td>\n",
       "    </tr>\n",
       "    <tr>\n",
       "      <th>2</th>\n",
       "      <td>433</td>\n",
       "      <td>2014-10-13 10:33:00</td>\n",
       "      <td>2014-10-13 10:48:00</td>\n",
       "      <td>SEA00486</td>\n",
       "      <td>883.831</td>\n",
       "      <td>2nd Ave &amp; Spring St</td>\n",
       "      <td>Occidental Park / Occidental Ave S &amp; S Washing...</td>\n",
       "      <td>CBD-06</td>\n",
       "      <td>PS-04</td>\n",
       "      <td>Member</td>\n",
       "      <td>Female</td>\n",
       "      <td>1988.0</td>\n",
       "    </tr>\n",
       "    <tr>\n",
       "      <th>3</th>\n",
       "      <td>434</td>\n",
       "      <td>2014-10-13 10:34:00</td>\n",
       "      <td>2014-10-13 10:48:00</td>\n",
       "      <td>SEA00333</td>\n",
       "      <td>865.937</td>\n",
       "      <td>2nd Ave &amp; Spring St</td>\n",
       "      <td>Occidental Park / Occidental Ave S &amp; S Washing...</td>\n",
       "      <td>CBD-06</td>\n",
       "      <td>PS-04</td>\n",
       "      <td>Member</td>\n",
       "      <td>Female</td>\n",
       "      <td>1977.0</td>\n",
       "    </tr>\n",
       "    <tr>\n",
       "      <th>4</th>\n",
       "      <td>435</td>\n",
       "      <td>2014-10-13 10:34:00</td>\n",
       "      <td>2014-10-13 10:49:00</td>\n",
       "      <td>SEA00202</td>\n",
       "      <td>923.923</td>\n",
       "      <td>2nd Ave &amp; Spring St</td>\n",
       "      <td>Occidental Park / Occidental Ave S &amp; S Washing...</td>\n",
       "      <td>CBD-06</td>\n",
       "      <td>PS-04</td>\n",
       "      <td>Member</td>\n",
       "      <td>Male</td>\n",
       "      <td>1971.0</td>\n",
       "    </tr>\n",
       "  </tbody>\n",
       "</table>\n",
       "</div>"
      ],
      "text/plain": [
       "   trip_id           starttime            stoptime    bikeid  tripduration  \\\n",
       "0      431 2014-10-13 10:31:00 2014-10-13 10:48:00  SEA00298       985.935   \n",
       "1      432 2014-10-13 10:32:00 2014-10-13 10:48:00  SEA00195       926.375   \n",
       "2      433 2014-10-13 10:33:00 2014-10-13 10:48:00  SEA00486       883.831   \n",
       "3      434 2014-10-13 10:34:00 2014-10-13 10:48:00  SEA00333       865.937   \n",
       "4      435 2014-10-13 10:34:00 2014-10-13 10:49:00  SEA00202       923.923   \n",
       "\n",
       "     from_station_name                                    to_station_name  \\\n",
       "0  2nd Ave & Spring St  Occidental Park / Occidental Ave S & S Washing...   \n",
       "1  2nd Ave & Spring St  Occidental Park / Occidental Ave S & S Washing...   \n",
       "2  2nd Ave & Spring St  Occidental Park / Occidental Ave S & S Washing...   \n",
       "3  2nd Ave & Spring St  Occidental Park / Occidental Ave S & S Washing...   \n",
       "4  2nd Ave & Spring St  Occidental Park / Occidental Ave S & S Washing...   \n",
       "\n",
       "  from_station_id to_station_id usertype  gender  birthyear  \n",
       "0          CBD-06         PS-04   Member    Male     1960.0  \n",
       "1          CBD-06         PS-04   Member    Male     1970.0  \n",
       "2          CBD-06         PS-04   Member  Female     1988.0  \n",
       "3          CBD-06         PS-04   Member  Female     1977.0  \n",
       "4          CBD-06         PS-04   Member    Male     1971.0  "
      ]
     },
     "execution_count": 4,
     "metadata": {},
     "output_type": "execute_result"
    }
   ],
   "source": [
    "trip.head()"
   ]
  },
  {
   "cell_type": "code",
   "execution_count": 5,
   "metadata": {},
   "outputs": [
    {
     "data": {
      "text/html": [
       "<div>\n",
       "<style scoped>\n",
       "    .dataframe tbody tr th:only-of-type {\n",
       "        vertical-align: middle;\n",
       "    }\n",
       "\n",
       "    .dataframe tbody tr th {\n",
       "        vertical-align: top;\n",
       "    }\n",
       "\n",
       "    .dataframe thead th {\n",
       "        text-align: right;\n",
       "    }\n",
       "</style>\n",
       "<table border=\"1\" class=\"dataframe\">\n",
       "  <thead>\n",
       "    <tr style=\"text-align: right;\">\n",
       "      <th></th>\n",
       "      <th>trip_id</th>\n",
       "      <th>starttime</th>\n",
       "      <th>stoptime</th>\n",
       "      <th>bikeid</th>\n",
       "      <th>tripduration</th>\n",
       "      <th>from_station_name</th>\n",
       "      <th>to_station_name</th>\n",
       "      <th>from_station_id</th>\n",
       "      <th>to_station_id</th>\n",
       "      <th>usertype</th>\n",
       "      <th>gender</th>\n",
       "      <th>birthyear</th>\n",
       "    </tr>\n",
       "  </thead>\n",
       "  <tbody>\n",
       "    <tr>\n",
       "      <th>286852</th>\n",
       "      <td>255241</td>\n",
       "      <td>2016-08-31 23:34:00</td>\n",
       "      <td>2016-08-31 23:45:00</td>\n",
       "      <td>SEA00201</td>\n",
       "      <td>679.532</td>\n",
       "      <td>Harvard Ave &amp; E Pine St</td>\n",
       "      <td>2nd Ave &amp; Spring St</td>\n",
       "      <td>CH-09</td>\n",
       "      <td>CBD-06</td>\n",
       "      <td>Short-Term Pass Holder</td>\n",
       "      <td>NaN</td>\n",
       "      <td>NaN</td>\n",
       "    </tr>\n",
       "    <tr>\n",
       "      <th>286853</th>\n",
       "      <td>255242</td>\n",
       "      <td>2016-08-31 23:48:00</td>\n",
       "      <td>2016-09-01 00:20:00</td>\n",
       "      <td>SEA00247</td>\n",
       "      <td>1965.418</td>\n",
       "      <td>Cal Anderson Park / 11th Ave &amp; Pine St</td>\n",
       "      <td>6th Ave S &amp; S King St</td>\n",
       "      <td>CH-08</td>\n",
       "      <td>ID-04</td>\n",
       "      <td>Short-Term Pass Holder</td>\n",
       "      <td>NaN</td>\n",
       "      <td>NaN</td>\n",
       "    </tr>\n",
       "    <tr>\n",
       "      <th>286854</th>\n",
       "      <td>255243</td>\n",
       "      <td>2016-08-31 23:47:00</td>\n",
       "      <td>2016-09-01 00:20:00</td>\n",
       "      <td>SEA00300</td>\n",
       "      <td>1951.173</td>\n",
       "      <td>Cal Anderson Park / 11th Ave &amp; Pine St</td>\n",
       "      <td>6th Ave S &amp; S King St</td>\n",
       "      <td>CH-08</td>\n",
       "      <td>ID-04</td>\n",
       "      <td>Short-Term Pass Holder</td>\n",
       "      <td>NaN</td>\n",
       "      <td>NaN</td>\n",
       "    </tr>\n",
       "    <tr>\n",
       "      <th>286855</th>\n",
       "      <td>255244</td>\n",
       "      <td>2016-08-31 23:49:00</td>\n",
       "      <td>2016-09-01 00:20:00</td>\n",
       "      <td>SEA00047</td>\n",
       "      <td>1883.299</td>\n",
       "      <td>Cal Anderson Park / 11th Ave &amp; Pine St</td>\n",
       "      <td>6th Ave S &amp; S King St</td>\n",
       "      <td>CH-08</td>\n",
       "      <td>ID-04</td>\n",
       "      <td>Short-Term Pass Holder</td>\n",
       "      <td>NaN</td>\n",
       "      <td>NaN</td>\n",
       "    </tr>\n",
       "    <tr>\n",
       "      <th>286856</th>\n",
       "      <td>255245</td>\n",
       "      <td>2016-08-31 23:49:00</td>\n",
       "      <td>2016-09-01 00:20:00</td>\n",
       "      <td>SEA00442</td>\n",
       "      <td>1896.031</td>\n",
       "      <td>Cal Anderson Park / 11th Ave &amp; Pine St</td>\n",
       "      <td>6th Ave S &amp; S King St</td>\n",
       "      <td>CH-08</td>\n",
       "      <td>ID-04</td>\n",
       "      <td>Short-Term Pass Holder</td>\n",
       "      <td>NaN</td>\n",
       "      <td>NaN</td>\n",
       "    </tr>\n",
       "  </tbody>\n",
       "</table>\n",
       "</div>"
      ],
      "text/plain": [
       "        trip_id           starttime            stoptime    bikeid  \\\n",
       "286852   255241 2016-08-31 23:34:00 2016-08-31 23:45:00  SEA00201   \n",
       "286853   255242 2016-08-31 23:48:00 2016-09-01 00:20:00  SEA00247   \n",
       "286854   255243 2016-08-31 23:47:00 2016-09-01 00:20:00  SEA00300   \n",
       "286855   255244 2016-08-31 23:49:00 2016-09-01 00:20:00  SEA00047   \n",
       "286856   255245 2016-08-31 23:49:00 2016-09-01 00:20:00  SEA00442   \n",
       "\n",
       "        tripduration                       from_station_name  \\\n",
       "286852       679.532                 Harvard Ave & E Pine St   \n",
       "286853      1965.418  Cal Anderson Park / 11th Ave & Pine St   \n",
       "286854      1951.173  Cal Anderson Park / 11th Ave & Pine St   \n",
       "286855      1883.299  Cal Anderson Park / 11th Ave & Pine St   \n",
       "286856      1896.031  Cal Anderson Park / 11th Ave & Pine St   \n",
       "\n",
       "              to_station_name from_station_id to_station_id  \\\n",
       "286852    2nd Ave & Spring St           CH-09        CBD-06   \n",
       "286853  6th Ave S & S King St           CH-08         ID-04   \n",
       "286854  6th Ave S & S King St           CH-08         ID-04   \n",
       "286855  6th Ave S & S King St           CH-08         ID-04   \n",
       "286856  6th Ave S & S King St           CH-08         ID-04   \n",
       "\n",
       "                      usertype gender  birthyear  \n",
       "286852  Short-Term Pass Holder    NaN        NaN  \n",
       "286853  Short-Term Pass Holder    NaN        NaN  \n",
       "286854  Short-Term Pass Holder    NaN        NaN  \n",
       "286855  Short-Term Pass Holder    NaN        NaN  \n",
       "286856  Short-Term Pass Holder    NaN        NaN  "
      ]
     },
     "execution_count": 5,
     "metadata": {},
     "output_type": "execute_result"
    }
   ],
   "source": [
    "trip.tail()"
   ]
  },
  {
   "cell_type": "markdown",
   "metadata": {},
   "source": [
    "# What is the average number of bike rentals per day?\n",
    "\n",
    "Seems like a pretty simple and straightforward question. We've got one row for each bike rental - let's call them trips."
   ]
  },
  {
   "cell_type": "markdown",
   "metadata": {},
   "source": [
    "## A first attempt\n",
    "Let's start by counting the number of trips per date and then we can simply do an average. Hmm, we don't actually\n",
    "have a trip date field, we've got the detailed trip datetimes for when bike was checked out and when returned. Let's add a trip date column. "
   ]
  },
  {
   "cell_type": "code",
   "execution_count": 92,
   "metadata": {},
   "outputs": [],
   "source": [
    "trip['tripdate'] = trip['starttime'].map(lambda x: x.date())"
   ]
  },
  {
   "cell_type": "markdown",
   "metadata": {},
   "source": [
    "Group by `tripdate` and count the records."
   ]
  },
  {
   "cell_type": "code",
   "execution_count": 93,
   "metadata": {},
   "outputs": [
    {
     "data": {
      "text/html": [
       "<div>\n",
       "<style scoped>\n",
       "    .dataframe tbody tr th:only-of-type {\n",
       "        vertical-align: middle;\n",
       "    }\n",
       "\n",
       "    .dataframe tbody tr th {\n",
       "        vertical-align: top;\n",
       "    }\n",
       "\n",
       "    .dataframe thead th {\n",
       "        text-align: right;\n",
       "    }\n",
       "</style>\n",
       "<table border=\"1\" class=\"dataframe\">\n",
       "  <thead>\n",
       "    <tr style=\"text-align: right;\">\n",
       "      <th></th>\n",
       "      <th>num_trips</th>\n",
       "    </tr>\n",
       "    <tr>\n",
       "      <th>tripdate</th>\n",
       "      <th></th>\n",
       "    </tr>\n",
       "  </thead>\n",
       "  <tbody>\n",
       "    <tr>\n",
       "      <th>2014-10-13</th>\n",
       "      <td>818</td>\n",
       "    </tr>\n",
       "    <tr>\n",
       "      <th>2014-10-14</th>\n",
       "      <td>982</td>\n",
       "    </tr>\n",
       "    <tr>\n",
       "      <th>2014-10-15</th>\n",
       "      <td>626</td>\n",
       "    </tr>\n",
       "    <tr>\n",
       "      <th>2014-10-16</th>\n",
       "      <td>790</td>\n",
       "    </tr>\n",
       "    <tr>\n",
       "      <th>2014-10-17</th>\n",
       "      <td>588</td>\n",
       "    </tr>\n",
       "    <tr>\n",
       "      <th>2014-10-18</th>\n",
       "      <td>798</td>\n",
       "    </tr>\n",
       "    <tr>\n",
       "      <th>2014-10-19</th>\n",
       "      <td>1332</td>\n",
       "    </tr>\n",
       "    <tr>\n",
       "      <th>2014-10-20</th>\n",
       "      <td>778</td>\n",
       "    </tr>\n",
       "    <tr>\n",
       "      <th>2014-10-21</th>\n",
       "      <td>714</td>\n",
       "    </tr>\n",
       "    <tr>\n",
       "      <th>2014-10-22</th>\n",
       "      <td>282</td>\n",
       "    </tr>\n",
       "    <tr>\n",
       "      <th>2014-10-23</th>\n",
       "      <td>676</td>\n",
       "    </tr>\n",
       "    <tr>\n",
       "      <th>2014-10-24</th>\n",
       "      <td>860</td>\n",
       "    </tr>\n",
       "    <tr>\n",
       "      <th>2014-10-25</th>\n",
       "      <td>432</td>\n",
       "    </tr>\n",
       "    <tr>\n",
       "      <th>2014-10-26</th>\n",
       "      <td>504</td>\n",
       "    </tr>\n",
       "    <tr>\n",
       "      <th>2014-10-27</th>\n",
       "      <td>734</td>\n",
       "    </tr>\n",
       "    <tr>\n",
       "      <th>2014-10-28</th>\n",
       "      <td>470</td>\n",
       "    </tr>\n",
       "    <tr>\n",
       "      <th>2014-10-29</th>\n",
       "      <td>880</td>\n",
       "    </tr>\n",
       "    <tr>\n",
       "      <th>2014-10-30</th>\n",
       "      <td>454</td>\n",
       "    </tr>\n",
       "    <tr>\n",
       "      <th>2014-10-31</th>\n",
       "      <td>452</td>\n",
       "    </tr>\n",
       "    <tr>\n",
       "      <th>2014-11-01</th>\n",
       "      <td>876</td>\n",
       "    </tr>\n",
       "    <tr>\n",
       "      <th>2014-11-02</th>\n",
       "      <td>662</td>\n",
       "    </tr>\n",
       "    <tr>\n",
       "      <th>2014-11-03</th>\n",
       "      <td>474</td>\n",
       "    </tr>\n",
       "    <tr>\n",
       "      <th>2014-11-04</th>\n",
       "      <td>770</td>\n",
       "    </tr>\n",
       "    <tr>\n",
       "      <th>2014-11-05</th>\n",
       "      <td>592</td>\n",
       "    </tr>\n",
       "    <tr>\n",
       "      <th>2014-11-06</th>\n",
       "      <td>512</td>\n",
       "    </tr>\n",
       "    <tr>\n",
       "      <th>2014-11-07</th>\n",
       "      <td>690</td>\n",
       "    </tr>\n",
       "    <tr>\n",
       "      <th>2014-11-08</th>\n",
       "      <td>1058</td>\n",
       "    </tr>\n",
       "    <tr>\n",
       "      <th>2014-11-09</th>\n",
       "      <td>474</td>\n",
       "    </tr>\n",
       "    <tr>\n",
       "      <th>2014-11-10</th>\n",
       "      <td>784</td>\n",
       "    </tr>\n",
       "    <tr>\n",
       "      <th>2014-11-11</th>\n",
       "      <td>540</td>\n",
       "    </tr>\n",
       "    <tr>\n",
       "      <th>...</th>\n",
       "      <td>...</td>\n",
       "    </tr>\n",
       "    <tr>\n",
       "      <th>2016-08-02</th>\n",
       "      <td>395</td>\n",
       "    </tr>\n",
       "    <tr>\n",
       "      <th>2016-08-03</th>\n",
       "      <td>412</td>\n",
       "    </tr>\n",
       "    <tr>\n",
       "      <th>2016-08-04</th>\n",
       "      <td>439</td>\n",
       "    </tr>\n",
       "    <tr>\n",
       "      <th>2016-08-05</th>\n",
       "      <td>520</td>\n",
       "    </tr>\n",
       "    <tr>\n",
       "      <th>2016-08-06</th>\n",
       "      <td>379</td>\n",
       "    </tr>\n",
       "    <tr>\n",
       "      <th>2016-08-07</th>\n",
       "      <td>328</td>\n",
       "    </tr>\n",
       "    <tr>\n",
       "      <th>2016-08-08</th>\n",
       "      <td>431</td>\n",
       "    </tr>\n",
       "    <tr>\n",
       "      <th>2016-08-09</th>\n",
       "      <td>428</td>\n",
       "    </tr>\n",
       "    <tr>\n",
       "      <th>2016-08-10</th>\n",
       "      <td>504</td>\n",
       "    </tr>\n",
       "    <tr>\n",
       "      <th>2016-08-11</th>\n",
       "      <td>490</td>\n",
       "    </tr>\n",
       "    <tr>\n",
       "      <th>2016-08-12</th>\n",
       "      <td>465</td>\n",
       "    </tr>\n",
       "    <tr>\n",
       "      <th>2016-08-13</th>\n",
       "      <td>466</td>\n",
       "    </tr>\n",
       "    <tr>\n",
       "      <th>2016-08-14</th>\n",
       "      <td>451</td>\n",
       "    </tr>\n",
       "    <tr>\n",
       "      <th>2016-08-15</th>\n",
       "      <td>408</td>\n",
       "    </tr>\n",
       "    <tr>\n",
       "      <th>2016-08-16</th>\n",
       "      <td>422</td>\n",
       "    </tr>\n",
       "    <tr>\n",
       "      <th>2016-08-17</th>\n",
       "      <td>430</td>\n",
       "    </tr>\n",
       "    <tr>\n",
       "      <th>2016-08-18</th>\n",
       "      <td>528</td>\n",
       "    </tr>\n",
       "    <tr>\n",
       "      <th>2016-08-19</th>\n",
       "      <td>407</td>\n",
       "    </tr>\n",
       "    <tr>\n",
       "      <th>2016-08-20</th>\n",
       "      <td>426</td>\n",
       "    </tr>\n",
       "    <tr>\n",
       "      <th>2016-08-21</th>\n",
       "      <td>345</td>\n",
       "    </tr>\n",
       "    <tr>\n",
       "      <th>2016-08-22</th>\n",
       "      <td>439</td>\n",
       "    </tr>\n",
       "    <tr>\n",
       "      <th>2016-08-23</th>\n",
       "      <td>412</td>\n",
       "    </tr>\n",
       "    <tr>\n",
       "      <th>2016-08-24</th>\n",
       "      <td>446</td>\n",
       "    </tr>\n",
       "    <tr>\n",
       "      <th>2016-08-25</th>\n",
       "      <td>471</td>\n",
       "    </tr>\n",
       "    <tr>\n",
       "      <th>2016-08-26</th>\n",
       "      <td>500</td>\n",
       "    </tr>\n",
       "    <tr>\n",
       "      <th>2016-08-27</th>\n",
       "      <td>333</td>\n",
       "    </tr>\n",
       "    <tr>\n",
       "      <th>2016-08-28</th>\n",
       "      <td>392</td>\n",
       "    </tr>\n",
       "    <tr>\n",
       "      <th>2016-08-29</th>\n",
       "      <td>369</td>\n",
       "    </tr>\n",
       "    <tr>\n",
       "      <th>2016-08-30</th>\n",
       "      <td>375</td>\n",
       "    </tr>\n",
       "    <tr>\n",
       "      <th>2016-08-31</th>\n",
       "      <td>319</td>\n",
       "    </tr>\n",
       "  </tbody>\n",
       "</table>\n",
       "<p>689 rows × 1 columns</p>\n",
       "</div>"
      ],
      "text/plain": [
       "            num_trips\n",
       "tripdate             \n",
       "2014-10-13        818\n",
       "2014-10-14        982\n",
       "2014-10-15        626\n",
       "2014-10-16        790\n",
       "2014-10-17        588\n",
       "2014-10-18        798\n",
       "2014-10-19       1332\n",
       "2014-10-20        778\n",
       "2014-10-21        714\n",
       "2014-10-22        282\n",
       "2014-10-23        676\n",
       "2014-10-24        860\n",
       "2014-10-25        432\n",
       "2014-10-26        504\n",
       "2014-10-27        734\n",
       "2014-10-28        470\n",
       "2014-10-29        880\n",
       "2014-10-30        454\n",
       "2014-10-31        452\n",
       "2014-11-01        876\n",
       "2014-11-02        662\n",
       "2014-11-03        474\n",
       "2014-11-04        770\n",
       "2014-11-05        592\n",
       "2014-11-06        512\n",
       "2014-11-07        690\n",
       "2014-11-08       1058\n",
       "2014-11-09        474\n",
       "2014-11-10        784\n",
       "2014-11-11        540\n",
       "...               ...\n",
       "2016-08-02        395\n",
       "2016-08-03        412\n",
       "2016-08-04        439\n",
       "2016-08-05        520\n",
       "2016-08-06        379\n",
       "2016-08-07        328\n",
       "2016-08-08        431\n",
       "2016-08-09        428\n",
       "2016-08-10        504\n",
       "2016-08-11        490\n",
       "2016-08-12        465\n",
       "2016-08-13        466\n",
       "2016-08-14        451\n",
       "2016-08-15        408\n",
       "2016-08-16        422\n",
       "2016-08-17        430\n",
       "2016-08-18        528\n",
       "2016-08-19        407\n",
       "2016-08-20        426\n",
       "2016-08-21        345\n",
       "2016-08-22        439\n",
       "2016-08-23        412\n",
       "2016-08-24        446\n",
       "2016-08-25        471\n",
       "2016-08-26        500\n",
       "2016-08-27        333\n",
       "2016-08-28        392\n",
       "2016-08-29        369\n",
       "2016-08-30        375\n",
       "2016-08-31        319\n",
       "\n",
       "[689 rows x 1 columns]"
      ]
     },
     "execution_count": 93,
     "metadata": {},
     "output_type": "execute_result"
    }
   ],
   "source": [
    "# Create a Group by object using tripdate\n",
    "grp_date = trip.groupby('tripdate')\n",
    "\n",
    "# Compute number of trips by date and check out the result\n",
    "trips_by_date = pd.DataFrame(grp_date.size(), columns=['num_trips'])\n",
    "\n",
    "trips_by_date"
   ]
  },
  {
   "cell_type": "markdown",
   "metadata": {},
   "source": [
    "Now, can't we just compute an average of the `num_trips` column and that will be the average number of bike rentals per day?"
   ]
  },
  {
   "cell_type": "code",
   "execution_count": 94,
   "metadata": {},
   "outputs": [
    {
     "name": "stdout",
     "output_type": "stream",
     "text": [
      "The mean number of trips per day is 416.34. The mean is based on 689 tripdates.\n",
      "The beginning of the date range is 2014-10-13.\n",
      "The end of the date range is 2016-08-31.\n",
      "The are 689 days in the date range.\n"
     ]
    }
   ],
   "source": [
    "mean_trips = trips_by_date['num_trips'].mean()\n",
    "tot_tripdates = trips_by_date['num_trips'].count()\n",
    "num_days = (trips_by_date.index.max() - trips_by_date.index.min()).days + 1\n",
    "\n",
    "print(\"The mean number of trips per day is {:.2f}. The mean is based on {} tripdates.\"\n",
    "      .format(mean_trips, tot_tripdates))\n",
    "print(\"The beginning of the date range is {}.\".format(trips_by_date.index.min()))\n",
    "print(\"The end of the date range is {}.\".format(trips_by_date.index.max()))\n",
    "print(\"The are {} days in the date range.\".format(num_days))"
   ]
  },
  {
   "cell_type": "markdown",
   "metadata": {},
   "source": [
    "You scan the counts, look at the average, looks reasonable. And, yes, in this case, this is the correct average number of daily bike trips.\n",
    "\n",
    "Now, let's change the question slightly. \n",
    "\n",
    "**What is the average number of daily trips that originate at Station CH-06?**\n",
    "\n",
    "Let's use the same approach, but just consider trips where `from_station_id == 'CH-06'`. "
   ]
  },
  {
   "cell_type": "code",
   "execution_count": 121,
   "metadata": {},
   "outputs": [
    {
     "name": "stdout",
     "output_type": "stream",
     "text": [
      "The mean number of trips per day is 416.34. The mean is based on 653 tripdates.\n",
      "The beginning of the date range is 2014-10-13.\n",
      "The end of the date range is 2016-08-31.\n",
      "The are 689 days in the date range.\n"
     ]
    }
   ],
   "source": [
    "# Group by tripdate in the trip dataframe\n",
    "grp_date_CH06 = trip[(trip.from_station_id == 'CH-06')].groupby(['tripdate'])\n",
    "\n",
    "# Compute number of trips by date and check out the result\n",
    "trips_by_date_CH06 = pd.DataFrame(grp_date_CH06.size(), columns=['num_trips'])\n",
    "\n",
    "# Compute the average\n",
    "mean_trips_CH06 = trips_by_date_CH06['num_trips'].mean()\n",
    "tot_tripdates_CH06 = trips_by_date_CH06['num_trips'].count()\n",
    "num_days_CH06 = (trips_by_date_CH06.index.max() - trips_by_date_CH06.index.min()).days + 1\n",
    "\n",
    "print(\"The mean number of trips per day is {:.2f}. The mean is based on {} tripdates.\"\n",
    "      .format(mean_trips, tot_tripdates_CH06))\n",
    "print(\"The beginning of the date range is {}.\".format(trips_by_date_CH06.index.min()))\n",
    "print(\"The end of the date range is {}.\".format(trips_by_date_CH06.index.max()))\n",
    "print(\"The are {} days in the date range.\".format(num_days_CH06))"
   ]
  },
  {
   "cell_type": "markdown",
   "metadata": {},
   "source": [
    "Notice that the mean uses a denominator of 653 even though there are 689 days in the date range of interest. What's going on? I'm sure by now you've already figured out the issue - on a bunch of days (689 - 653 days to be exact), there were no bike trips out of Station CH-06. The `trips_by_date_CH06` dataframe has missing rows corresponding to these zero dates. By not including them, you will overestimate the average number of daily trips out of CH-06 (and underestimate measures of dispersion such as standard deviation). The denominator should have been 689, not 653. For low volume stations, this error could be quite substantial."
   ]
  },
  {
   "cell_type": "markdown",
   "metadata": {},
   "source": [
    "### TAKE AWAY 1: You must account for \"zero days\" (i.e. dates with no activity)."
   ]
  },
  {
   "cell_type": "markdown",
   "metadata": {},
   "source": [
    "There's another way that these zero days can affect the analysis. Let's consider a different station. I'm going to create a small function in which we can pass in the station id and get the stats."
   ]
  },
  {
   "cell_type": "code",
   "execution_count": 96,
   "metadata": {},
   "outputs": [],
   "source": [
    "def get_daily_avg_trips_1(station_id):\n",
    "    # Group by tripdate in the trip dataframe\n",
    "    grp_date = trip[(trip.from_station_id == station_id)].groupby(['tripdate'])\n",
    "\n",
    "    # Compute number of trips by date and check out the result\n",
    "    trips_by_date = pd.DataFrame(grp_date.size(), columns=['num_trips'])\n",
    "    trips_by_date['weekday'] = trips_by_date.index.map(lambda x: x.weekday())\n",
    "\n",
    "    # Compute the average\n",
    "    mean_trips = trips_by_date['num_trips'].mean()\n",
    "    tot_tripdates = trips_by_date['num_trips'].count()\n",
    "    num_days = (trips_by_date.index.max() - trips_by_date.index.min()).days + 1\n",
    "\n",
    "    print(\"The mean number of trips per day is {:.2f}. The mean is based on {} tripdates.\"\n",
    "          .format(mean_trips, tot_tripdates))\n",
    "    print(\"The beginning of the date range is {}.\".format(trips_by_date.index.min()))\n",
    "    print(\"The end of the date range is {}.\".format(trips_by_date.index.max()))\n",
    "    print(\"The are {} days in the date range.\".format(num_days))\n",
    "    \n",
    "    return trips_by_date"
   ]
  },
  {
   "cell_type": "markdown",
   "metadata": {},
   "source": [
    "Let's look at one of the low volume stations."
   ]
  },
  {
   "cell_type": "code",
   "execution_count": 97,
   "metadata": {},
   "outputs": [
    {
     "name": "stdout",
     "output_type": "stream",
     "text": [
      "The mean number of trips per day is 3.23. The mean is based on 233 tripdates.\n",
      "The beginning of the date range is 2014-10-14.\n",
      "The end of the date range is 2015-10-27.\n",
      "The are 379 days in the date range.\n"
     ]
    }
   ],
   "source": [
    "trips_by_date_1 = get_daily_avg_trips_1('UW-01')"
   ]
  },
  {
   "cell_type": "code",
   "execution_count": 98,
   "metadata": {},
   "outputs": [
    {
     "data": {
      "text/plain": [
       "count    233.000000\n",
       "mean       3.227468\n",
       "std        2.221509\n",
       "min        1.000000\n",
       "25%        2.000000\n",
       "50%        2.000000\n",
       "75%        4.000000\n",
       "max       14.000000\n",
       "Name: num_trips, dtype: float64"
      ]
     },
     "execution_count": 98,
     "metadata": {},
     "output_type": "execute_result"
    }
   ],
   "source": [
    "trips_by_date_1['num_trips'].describe()"
   ]
  },
  {
   "cell_type": "markdown",
   "metadata": {},
   "source": [
    "So, there were at least one trip out of UW-01 on 233 days between 2014-10-13 and 2016-08-31. But notice that there were only 379 days in the `trips_by_date` dataframe (compare the min and max dates with the previous examples). So, what should the denominator be for computing the average number of trips per day? Well, if our *analysis timeframe* is still 2014-10-13 to 2016-08-31, the denominator should be 689. Notice, that for UW-01, there were no trips after 2015-10-27. Likely, the station was closed at that time. The appropriate analysis timeframe depends on the context of the analysis. If we want to know the average trip volume during the period the station was open, then the denominator should be 379 (or, 380 if we interpret 2014-10-13 as being a date the station was open but had zero rides). "
   ]
  },
  {
   "cell_type": "markdown",
   "metadata": {},
   "source": [
    "### TAKE AWAY 2: You must appropriately specify the analysis timeframe and not simply rely on using earliest and latest dates seen in the dataset."
   ]
  },
  {
   "cell_type": "markdown",
   "metadata": {},
   "source": [
    "## Accounting for zero days and analysis timeframe\n",
    "\n",
    "### Example 1 - Full dataset, no zero days\n",
    "\n",
    "To begin, let's just compute the overall daily average number of bike trips for the time period 2014-10-13 and 2016-08-31. However, even though we know there was at least one trip on every date in that range, we won't assume that to be true."
   ]
  },
  {
   "cell_type": "markdown",
   "metadata": {},
   "source": [
    "Here's the basic strategy we will use:\n",
    "\n",
    "* Create a range of dates based on the start and end date of the time period of interest.\n",
    "* Create an empty DataFrame using the range of dates as the index. For convenience, add weekday column based on date to facility day of week analysis.\n",
    "* Let's call this new DataFrame the \"seeded\" DataFrame\n",
    "* Use groupby on the original trip DataFrame to compute number of trips by date and store result as DataFrame\n",
    "* Merge the two DataFrames on their indexes (tripdate) but do a \"left join\". Pandas `merge` function is perfect for this.\n",
    "* If there are dates with no trips, they'll have missing data in the new merged DataFrame.\n",
    "* Update the missing values to 0 using the `fillna` function in pandas.\n",
    "* Now you can compute overall mean number of trips per day. You could also compute means by day of week."
   ]
  },
  {
   "cell_type": "markdown",
   "metadata": {},
   "source": [
    "### Step 1: Create range of dates based on analysis timeframe"
   ]
  },
  {
   "cell_type": "code",
   "execution_count": 99,
   "metadata": {},
   "outputs": [
    {
     "data": {
      "text/plain": [
       "DatetimeIndex(['2014-10-13', '2014-10-14', '2014-10-15', '2014-10-16',\n",
       "               '2014-10-17', '2014-10-18', '2014-10-19', '2014-10-20',\n",
       "               '2014-10-21', '2014-10-22',\n",
       "               ...\n",
       "               '2016-08-22', '2016-08-23', '2016-08-24', '2016-08-25',\n",
       "               '2016-08-26', '2016-08-27', '2016-08-28', '2016-08-29',\n",
       "               '2016-08-30', '2016-08-31'],\n",
       "              dtype='datetime64[ns]', length=689, freq='D')"
      ]
     },
     "execution_count": 99,
     "metadata": {},
     "output_type": "execute_result"
    }
   ],
   "source": [
    "# Create range of dates to use as an index\n",
    "start = pd.datetime(2014, 10, 13)\n",
    "end = pd.datetime(2016, 8, 31)\n",
    "rng = pd.date_range(start, end) # pandas has handy date_range() function. It's very flexible and powerful.\n",
    "rng"
   ]
  },
  {
   "cell_type": "markdown",
   "metadata": {},
   "source": [
    "### Step 2: Create an empty DataFrame using the range of dates as the index."
   ]
  },
  {
   "cell_type": "code",
   "execution_count": 100,
   "metadata": {},
   "outputs": [],
   "source": [
    "trips_by_date_seeded = pd.DataFrame(index=rng)"
   ]
  },
  {
   "cell_type": "code",
   "execution_count": 101,
   "metadata": {},
   "outputs": [
    {
     "data": {
      "text/html": [
       "<div>\n",
       "<style scoped>\n",
       "    .dataframe tbody tr th:only-of-type {\n",
       "        vertical-align: middle;\n",
       "    }\n",
       "\n",
       "    .dataframe tbody tr th {\n",
       "        vertical-align: top;\n",
       "    }\n",
       "\n",
       "    .dataframe thead th {\n",
       "        text-align: right;\n",
       "    }\n",
       "</style>\n",
       "<table border=\"1\" class=\"dataframe\">\n",
       "  <thead>\n",
       "    <tr style=\"text-align: right;\">\n",
       "      <th></th>\n",
       "      <th>weekday</th>\n",
       "    </tr>\n",
       "  </thead>\n",
       "  <tbody>\n",
       "    <tr>\n",
       "      <th>2014-10-13</th>\n",
       "      <td>0</td>\n",
       "    </tr>\n",
       "    <tr>\n",
       "      <th>2014-10-14</th>\n",
       "      <td>1</td>\n",
       "    </tr>\n",
       "    <tr>\n",
       "      <th>2014-10-15</th>\n",
       "      <td>2</td>\n",
       "    </tr>\n",
       "    <tr>\n",
       "      <th>2014-10-16</th>\n",
       "      <td>3</td>\n",
       "    </tr>\n",
       "    <tr>\n",
       "      <th>2014-10-17</th>\n",
       "      <td>4</td>\n",
       "    </tr>\n",
       "  </tbody>\n",
       "</table>\n",
       "</div>"
      ],
      "text/plain": [
       "            weekday\n",
       "2014-10-13        0\n",
       "2014-10-14        1\n",
       "2014-10-15        2\n",
       "2014-10-16        3\n",
       "2014-10-17        4"
      ]
     },
     "execution_count": 101,
     "metadata": {},
     "output_type": "execute_result"
    }
   ],
   "source": [
    "# Add weekday column to new dataframe\n",
    "trips_by_date_seeded['weekday'] = trips_by_date_seeded.index.map(lambda x: x.weekday())\n",
    "trips_by_date_seeded.head()"
   ]
  },
  {
   "cell_type": "markdown",
   "metadata": {},
   "source": [
    "### Step 3: Use groupby on the original trip DataFrame to compute number of trips by date "
   ]
  },
  {
   "cell_type": "code",
   "execution_count": 102,
   "metadata": {},
   "outputs": [],
   "source": [
    "# Create a Group by object using tripdate\n",
    "grp_date = trip.groupby(['tripdate'])\n",
    "\n",
    "# Compute number of trips by date and check out the result\n",
    "trips_by_date = pd.DataFrame(grp_date.size(), columns=['num_trips'])"
   ]
  },
  {
   "cell_type": "markdown",
   "metadata": {},
   "source": [
    "### Step 4: Merge the two DataFrames on their indexes (tripdate) but do a \"left join\". \n",
    "\n",
    "Pandas `merge` function is perfect for this.\n",
    "\n",
    "The `left_index=True, right_index=True` are telling pandas to use those respective indexes\n",
    "as the joining columns. Check out the documentation for `merge()`.\n",
    "\n",
    "http://pandas.pydata.org/pandas-docs/stable/merging.html#database-style-dataframe-joining-merging"
   ]
  },
  {
   "cell_type": "code",
   "execution_count": 103,
   "metadata": {},
   "outputs": [],
   "source": [
    "# Merge the two dataframes doing a left join (with seeded table on left)\n",
    "trips_by_date_merged = pd.merge(trips_by_date_seeded, trips_by_date, how='left', \n",
    "      left_index=True, right_index=True, sort=True)"
   ]
  },
  {
   "cell_type": "code",
   "execution_count": 104,
   "metadata": {},
   "outputs": [
    {
     "data": {
      "text/html": [
       "<div>\n",
       "<style scoped>\n",
       "    .dataframe tbody tr th:only-of-type {\n",
       "        vertical-align: middle;\n",
       "    }\n",
       "\n",
       "    .dataframe tbody tr th {\n",
       "        vertical-align: top;\n",
       "    }\n",
       "\n",
       "    .dataframe thead th {\n",
       "        text-align: right;\n",
       "    }\n",
       "</style>\n",
       "<table border=\"1\" class=\"dataframe\">\n",
       "  <thead>\n",
       "    <tr style=\"text-align: right;\">\n",
       "      <th></th>\n",
       "      <th>weekday</th>\n",
       "      <th>num_trips</th>\n",
       "    </tr>\n",
       "  </thead>\n",
       "  <tbody>\n",
       "    <tr>\n",
       "      <th>2014-10-13</th>\n",
       "      <td>0</td>\n",
       "      <td>818</td>\n",
       "    </tr>\n",
       "    <tr>\n",
       "      <th>2014-10-14</th>\n",
       "      <td>1</td>\n",
       "      <td>982</td>\n",
       "    </tr>\n",
       "    <tr>\n",
       "      <th>2014-10-15</th>\n",
       "      <td>2</td>\n",
       "      <td>626</td>\n",
       "    </tr>\n",
       "    <tr>\n",
       "      <th>2014-10-16</th>\n",
       "      <td>3</td>\n",
       "      <td>790</td>\n",
       "    </tr>\n",
       "    <tr>\n",
       "      <th>2014-10-17</th>\n",
       "      <td>4</td>\n",
       "      <td>588</td>\n",
       "    </tr>\n",
       "  </tbody>\n",
       "</table>\n",
       "</div>"
      ],
      "text/plain": [
       "            weekday  num_trips\n",
       "2014-10-13        0        818\n",
       "2014-10-14        1        982\n",
       "2014-10-15        2        626\n",
       "2014-10-16        3        790\n",
       "2014-10-17        4        588"
      ]
     },
     "execution_count": 104,
     "metadata": {},
     "output_type": "execute_result"
    }
   ],
   "source": [
    "trips_by_date_merged.head()"
   ]
  },
  {
   "cell_type": "markdown",
   "metadata": {},
   "source": [
    "### Step 5: Replace missing values with zeroes for those dates with no trips\n",
    "\n",
    "If there are dates with no trips, they'll have missing data in the new merged DataFrame. Update the missing values to 0 using the `fillna` function in pandas."
   ]
  },
  {
   "cell_type": "code",
   "execution_count": 105,
   "metadata": {},
   "outputs": [],
   "source": [
    "# Fill in any missing values with 0.\n",
    "trips_by_date_merged['num_trips'] = trips_by_date_merged['num_trips'].fillna(0)"
   ]
  },
  {
   "cell_type": "markdown",
   "metadata": {},
   "source": [
    "### Step 6: Compute statistics of interest\n",
    "\n",
    "Now we can safely compute means and other statistics of interest for the `num_trips` column. "
   ]
  },
  {
   "cell_type": "code",
   "execution_count": 106,
   "metadata": {},
   "outputs": [
    {
     "data": {
      "text/plain": [
       "count     689.000000\n",
       "mean      416.338171\n",
       "std       191.270584\n",
       "min        30.000000\n",
       "25%       272.000000\n",
       "50%       412.000000\n",
       "75%       547.000000\n",
       "max      1332.000000\n",
       "Name: num_trips, dtype: float64"
      ]
     },
     "execution_count": 106,
     "metadata": {},
     "output_type": "execute_result"
    }
   ],
   "source": [
    "trips_by_date_merged['num_trips'].describe()"
   ]
  },
  {
   "cell_type": "markdown",
   "metadata": {},
   "source": [
    "Of course, in this case the stats are the same as we'd have gotten just by doing the naive thing since we have no dates with zero trips."
   ]
  },
  {
   "cell_type": "code",
   "execution_count": 107,
   "metadata": {},
   "outputs": [
    {
     "data": {
      "text/plain": [
       "count     689.000000\n",
       "mean      416.338171\n",
       "std       191.270584\n",
       "min        30.000000\n",
       "25%       272.000000\n",
       "50%       412.000000\n",
       "75%       547.000000\n",
       "max      1332.000000\n",
       "Name: num_trips, dtype: float64"
      ]
     },
     "execution_count": 107,
     "metadata": {},
     "output_type": "execute_result"
    }
   ],
   "source": [
    "trips_by_date['num_trips'].describe()"
   ]
  },
  {
   "cell_type": "markdown",
   "metadata": {},
   "source": [
    "Can even do by day of week."
   ]
  },
  {
   "cell_type": "code",
   "execution_count": 108,
   "metadata": {},
   "outputs": [
    {
     "data": {
      "text/html": [
       "<div>\n",
       "<style scoped>\n",
       "    .dataframe tbody tr th:only-of-type {\n",
       "        vertical-align: middle;\n",
       "    }\n",
       "\n",
       "    .dataframe tbody tr th {\n",
       "        vertical-align: top;\n",
       "    }\n",
       "\n",
       "    .dataframe thead th {\n",
       "        text-align: right;\n",
       "    }\n",
       "</style>\n",
       "<table border=\"1\" class=\"dataframe\">\n",
       "  <thead>\n",
       "    <tr style=\"text-align: right;\">\n",
       "      <th></th>\n",
       "      <th>count</th>\n",
       "      <th>mean</th>\n",
       "      <th>std</th>\n",
       "      <th>min</th>\n",
       "      <th>25%</th>\n",
       "      <th>50%</th>\n",
       "      <th>75%</th>\n",
       "      <th>max</th>\n",
       "    </tr>\n",
       "    <tr>\n",
       "      <th>weekday</th>\n",
       "      <th></th>\n",
       "      <th></th>\n",
       "      <th></th>\n",
       "      <th></th>\n",
       "      <th></th>\n",
       "      <th></th>\n",
       "      <th></th>\n",
       "      <th></th>\n",
       "    </tr>\n",
       "  </thead>\n",
       "  <tbody>\n",
       "    <tr>\n",
       "      <th>0</th>\n",
       "      <td>99.0</td>\n",
       "      <td>426.303030</td>\n",
       "      <td>175.566864</td>\n",
       "      <td>88.0</td>\n",
       "      <td>278.00</td>\n",
       "      <td>416.0</td>\n",
       "      <td>542.50</td>\n",
       "      <td>941.0</td>\n",
       "    </tr>\n",
       "    <tr>\n",
       "      <th>1</th>\n",
       "      <td>99.0</td>\n",
       "      <td>433.191919</td>\n",
       "      <td>166.889776</td>\n",
       "      <td>150.0</td>\n",
       "      <td>317.50</td>\n",
       "      <td>422.0</td>\n",
       "      <td>562.00</td>\n",
       "      <td>982.0</td>\n",
       "    </tr>\n",
       "    <tr>\n",
       "      <th>2</th>\n",
       "      <td>99.0</td>\n",
       "      <td>433.747475</td>\n",
       "      <td>169.799001</td>\n",
       "      <td>118.0</td>\n",
       "      <td>300.00</td>\n",
       "      <td>412.0</td>\n",
       "      <td>577.50</td>\n",
       "      <td>880.0</td>\n",
       "    </tr>\n",
       "    <tr>\n",
       "      <th>3</th>\n",
       "      <td>98.0</td>\n",
       "      <td>448.428571</td>\n",
       "      <td>189.120100</td>\n",
       "      <td>96.0</td>\n",
       "      <td>300.50</td>\n",
       "      <td>437.5</td>\n",
       "      <td>567.75</td>\n",
       "      <td>1066.0</td>\n",
       "    </tr>\n",
       "    <tr>\n",
       "      <th>4</th>\n",
       "      <td>98.0</td>\n",
       "      <td>441.836735</td>\n",
       "      <td>179.083560</td>\n",
       "      <td>73.0</td>\n",
       "      <td>303.75</td>\n",
       "      <td>435.0</td>\n",
       "      <td>581.00</td>\n",
       "      <td>886.0</td>\n",
       "    </tr>\n",
       "    <tr>\n",
       "      <th>5</th>\n",
       "      <td>98.0</td>\n",
       "      <td>392.571429</td>\n",
       "      <td>228.069035</td>\n",
       "      <td>37.0</td>\n",
       "      <td>207.25</td>\n",
       "      <td>395.5</td>\n",
       "      <td>522.50</td>\n",
       "      <td>1058.0</td>\n",
       "    </tr>\n",
       "    <tr>\n",
       "      <th>6</th>\n",
       "      <td>98.0</td>\n",
       "      <td>337.836735</td>\n",
       "      <td>205.008156</td>\n",
       "      <td>30.0</td>\n",
       "      <td>160.00</td>\n",
       "      <td>346.5</td>\n",
       "      <td>460.50</td>\n",
       "      <td>1332.0</td>\n",
       "    </tr>\n",
       "  </tbody>\n",
       "</table>\n",
       "</div>"
      ],
      "text/plain": [
       "         count        mean         std    min     25%    50%     75%     max\n",
       "weekday                                                                     \n",
       "0         99.0  426.303030  175.566864   88.0  278.00  416.0  542.50   941.0\n",
       "1         99.0  433.191919  166.889776  150.0  317.50  422.0  562.00   982.0\n",
       "2         99.0  433.747475  169.799001  118.0  300.00  412.0  577.50   880.0\n",
       "3         98.0  448.428571  189.120100   96.0  300.50  437.5  567.75  1066.0\n",
       "4         98.0  441.836735  179.083560   73.0  303.75  435.0  581.00   886.0\n",
       "5         98.0  392.571429  228.069035   37.0  207.25  395.5  522.50  1058.0\n",
       "6         98.0  337.836735  205.008156   30.0  160.00  346.5  460.50  1332.0"
      ]
     },
     "execution_count": 108,
     "metadata": {},
     "output_type": "execute_result"
    }
   ],
   "source": [
    "trips_by_date_merged.groupby(['weekday'])['num_trips'].describe()"
   ]
  },
  {
   "cell_type": "markdown",
   "metadata": {},
   "source": [
    "### Example 2 - Average number of rentals per day at individual station\n",
    "\n",
    "As we saw earlier, station CH-06 had 36 days in which there were no trips originating at this station. Againk we'll create a small function to implement our strategy. Notice that the start and end dates for the analysis are input parameters to the function. Determining these dates is something that should be done before attempting to compute statistics. Again, the \"right\" analysis timeframe depends on the analysis being done."
   ]
  },
  {
   "cell_type": "code",
   "execution_count": 109,
   "metadata": {},
   "outputs": [],
   "source": [
    "def get_daily_avg_trips_2(station_id, start_date, end_date):\n",
    "    \n",
    "    # Step 1: Create range of dates based on analysis timeframe\n",
    "    rng = pd.date_range(start_date, end_date)\n",
    "    \n",
    "    # Step 2: Create an empty DataFrame using the range of dates as the index.\n",
    "    trips_by_date_seeded = pd.DataFrame(index=rng)\n",
    "    # Add weekday column to new dataframe\n",
    "    trips_by_date_seeded['weekday'] = trips_by_date_seeded.index.map(lambda x: x.weekday())\n",
    "    \n",
    "    # Step 3: Use groupby on the original trip DataFrame to compute number of trips by date\n",
    "    grp_date = trip[(trip.from_station_id == station_id)].groupby(['tripdate'])\n",
    "    # Compute number of trips by date \n",
    "    trips_by_date = pd.DataFrame(grp_date.size(), columns=['num_trips'])\n",
    "\n",
    "    # Step 4: Merge the two DataFrames on their indexes (tripdate) but do a \"left join\". \n",
    "    trips_by_date_merged = pd.merge(trips_by_date_seeded, trips_by_date, how='left', \n",
    "      left_index=True, right_index=True, sort=True)\n",
    "    \n",
    "    # Step 5: Replace missing values with zeroes for those dates with no trips\n",
    "    trips_by_date_merged['num_trips'] = trips_by_date_merged['num_trips'].fillna(0)\n",
    "    \n",
    "    \n",
    "    # Compute the average\n",
    "    mean_trips = trips_by_date_merged['num_trips'].mean()\n",
    "    tot_tripdates = trips_by_date_merged['num_trips'].count()\n",
    "    num_days = (trips_by_date_merged.index.max() - trips_by_date_merged.index.min()).days + 1\n",
    "\n",
    "    print(\"The mean number of trips per day is {:.2f}. The mean is based on {} tripdates.\"\n",
    "          .format(mean_trips, tot_tripdates))\n",
    "    print(\"The beginning of the date range is {}.\".format(trips_by_date_merged.index.min()))\n",
    "    print(\"The end of the date range is {}.\".format(trips_by_date_merged.index.max()))\n",
    "    print(\"The are {} days in the date range.\".format(num_days))\n",
    "    \n",
    "    return trips_by_date_merged"
   ]
  },
  {
   "cell_type": "markdown",
   "metadata": {},
   "source": [
    "Now let's compute statistics using the naive approach (`get_daily_avg_trips_1`) and the approach which takes zero days and the analysis timeframe into account (`get_daily_avg_trips_2`). We'll do it for Station CH-06."
   ]
  },
  {
   "cell_type": "code",
   "execution_count": 110,
   "metadata": {},
   "outputs": [],
   "source": [
    "station = 'CH-06'"
   ]
  },
  {
   "cell_type": "code",
   "execution_count": 111,
   "metadata": {},
   "outputs": [
    {
     "name": "stdout",
     "output_type": "stream",
     "text": [
      "The mean number of trips per day is 5.88. The mean is based on 653 tripdates.\n",
      "The beginning of the date range is 2014-10-13.\n",
      "The end of the date range is 2016-08-31.\n",
      "The are 689 days in the date range.\n"
     ]
    }
   ],
   "source": [
    "trips_by_date_1 = get_daily_avg_trips_1(station)"
   ]
  },
  {
   "cell_type": "code",
   "execution_count": 112,
   "metadata": {},
   "outputs": [
    {
     "name": "stdout",
     "output_type": "stream",
     "text": [
      "The mean number of trips per day is 5.57. The mean is based on 689 tripdates.\n",
      "The beginning of the date range is 2014-10-13 00:00:00.\n",
      "The end of the date range is 2016-08-31 00:00:00.\n",
      "The are 689 days in the date range.\n"
     ]
    }
   ],
   "source": [
    "start = pd.datetime(2014, 10, 13)\n",
    "end = pd.datetime(2016, 8, 31)\n",
    "trips_by_date_2 = get_daily_avg_trips_2(station, start, end)"
   ]
  },
  {
   "cell_type": "code",
   "execution_count": 113,
   "metadata": {},
   "outputs": [
    {
     "data": {
      "text/plain": [
       "count    653.000000\n",
       "mean       5.875957\n",
       "std        3.362768\n",
       "min        1.000000\n",
       "25%        4.000000\n",
       "50%        6.000000\n",
       "75%        8.000000\n",
       "max       26.000000\n",
       "Name: num_trips, dtype: float64"
      ]
     },
     "execution_count": 113,
     "metadata": {},
     "output_type": "execute_result"
    }
   ],
   "source": [
    "trips_by_date_1.num_trips.describe()"
   ]
  },
  {
   "cell_type": "code",
   "execution_count": 114,
   "metadata": {},
   "outputs": [
    {
     "data": {
      "text/plain": [
       "count    689.000000\n",
       "mean       5.568940\n",
       "std        3.525442\n",
       "min        0.000000\n",
       "25%        3.000000\n",
       "50%        5.000000\n",
       "75%        8.000000\n",
       "max       26.000000\n",
       "Name: num_trips, dtype: float64"
      ]
     },
     "execution_count": 114,
     "metadata": {},
     "output_type": "execute_result"
    }
   ],
   "source": [
    "trips_by_date_2.num_trips.describe()"
   ]
  },
  {
   "cell_type": "code",
   "execution_count": 115,
   "metadata": {},
   "outputs": [
    {
     "data": {
      "text/html": [
       "<div>\n",
       "<style scoped>\n",
       "    .dataframe tbody tr th:only-of-type {\n",
       "        vertical-align: middle;\n",
       "    }\n",
       "\n",
       "    .dataframe tbody tr th {\n",
       "        vertical-align: top;\n",
       "    }\n",
       "\n",
       "    .dataframe thead th {\n",
       "        text-align: right;\n",
       "    }\n",
       "</style>\n",
       "<table border=\"1\" class=\"dataframe\">\n",
       "  <thead>\n",
       "    <tr style=\"text-align: right;\">\n",
       "      <th></th>\n",
       "      <th>count</th>\n",
       "      <th>mean</th>\n",
       "      <th>std</th>\n",
       "      <th>min</th>\n",
       "      <th>25%</th>\n",
       "      <th>50%</th>\n",
       "      <th>75%</th>\n",
       "      <th>max</th>\n",
       "    </tr>\n",
       "    <tr>\n",
       "      <th>weekday</th>\n",
       "      <th></th>\n",
       "      <th></th>\n",
       "      <th></th>\n",
       "      <th></th>\n",
       "      <th></th>\n",
       "      <th></th>\n",
       "      <th></th>\n",
       "      <th></th>\n",
       "    </tr>\n",
       "  </thead>\n",
       "  <tbody>\n",
       "    <tr>\n",
       "      <th>0</th>\n",
       "      <td>97.0</td>\n",
       "      <td>6.051546</td>\n",
       "      <td>2.916802</td>\n",
       "      <td>1.0</td>\n",
       "      <td>4.0</td>\n",
       "      <td>6.0</td>\n",
       "      <td>8.00</td>\n",
       "      <td>16.0</td>\n",
       "    </tr>\n",
       "    <tr>\n",
       "      <th>1</th>\n",
       "      <td>94.0</td>\n",
       "      <td>6.425532</td>\n",
       "      <td>3.450072</td>\n",
       "      <td>2.0</td>\n",
       "      <td>5.0</td>\n",
       "      <td>6.0</td>\n",
       "      <td>8.00</td>\n",
       "      <td>26.0</td>\n",
       "    </tr>\n",
       "    <tr>\n",
       "      <th>2</th>\n",
       "      <td>95.0</td>\n",
       "      <td>6.357895</td>\n",
       "      <td>2.828110</td>\n",
       "      <td>1.0</td>\n",
       "      <td>4.0</td>\n",
       "      <td>6.0</td>\n",
       "      <td>8.00</td>\n",
       "      <td>14.0</td>\n",
       "    </tr>\n",
       "    <tr>\n",
       "      <th>3</th>\n",
       "      <td>94.0</td>\n",
       "      <td>6.829787</td>\n",
       "      <td>3.157644</td>\n",
       "      <td>1.0</td>\n",
       "      <td>5.0</td>\n",
       "      <td>6.0</td>\n",
       "      <td>8.00</td>\n",
       "      <td>18.0</td>\n",
       "    </tr>\n",
       "    <tr>\n",
       "      <th>4</th>\n",
       "      <td>95.0</td>\n",
       "      <td>6.357895</td>\n",
       "      <td>3.401864</td>\n",
       "      <td>1.0</td>\n",
       "      <td>4.0</td>\n",
       "      <td>6.0</td>\n",
       "      <td>8.00</td>\n",
       "      <td>18.0</td>\n",
       "    </tr>\n",
       "    <tr>\n",
       "      <th>5</th>\n",
       "      <td>88.0</td>\n",
       "      <td>4.738636</td>\n",
       "      <td>3.621438</td>\n",
       "      <td>1.0</td>\n",
       "      <td>2.0</td>\n",
       "      <td>4.0</td>\n",
       "      <td>6.25</td>\n",
       "      <td>16.0</td>\n",
       "    </tr>\n",
       "    <tr>\n",
       "      <th>6</th>\n",
       "      <td>90.0</td>\n",
       "      <td>4.211111</td>\n",
       "      <td>3.380361</td>\n",
       "      <td>1.0</td>\n",
       "      <td>2.0</td>\n",
       "      <td>3.5</td>\n",
       "      <td>5.75</td>\n",
       "      <td>22.0</td>\n",
       "    </tr>\n",
       "  </tbody>\n",
       "</table>\n",
       "</div>"
      ],
      "text/plain": [
       "         count      mean       std  min  25%  50%   75%   max\n",
       "weekday                                                      \n",
       "0         97.0  6.051546  2.916802  1.0  4.0  6.0  8.00  16.0\n",
       "1         94.0  6.425532  3.450072  2.0  5.0  6.0  8.00  26.0\n",
       "2         95.0  6.357895  2.828110  1.0  4.0  6.0  8.00  14.0\n",
       "3         94.0  6.829787  3.157644  1.0  5.0  6.0  8.00  18.0\n",
       "4         95.0  6.357895  3.401864  1.0  4.0  6.0  8.00  18.0\n",
       "5         88.0  4.738636  3.621438  1.0  2.0  4.0  6.25  16.0\n",
       "6         90.0  4.211111  3.380361  1.0  2.0  3.5  5.75  22.0"
      ]
     },
     "execution_count": 115,
     "metadata": {},
     "output_type": "execute_result"
    }
   ],
   "source": [
    "trips_by_date_1.groupby(['weekday'])['num_trips'].describe()"
   ]
  },
  {
   "cell_type": "code",
   "execution_count": 116,
   "metadata": {},
   "outputs": [
    {
     "data": {
      "text/html": [
       "<div>\n",
       "<style scoped>\n",
       "    .dataframe tbody tr th:only-of-type {\n",
       "        vertical-align: middle;\n",
       "    }\n",
       "\n",
       "    .dataframe tbody tr th {\n",
       "        vertical-align: top;\n",
       "    }\n",
       "\n",
       "    .dataframe thead th {\n",
       "        text-align: right;\n",
       "    }\n",
       "</style>\n",
       "<table border=\"1\" class=\"dataframe\">\n",
       "  <thead>\n",
       "    <tr style=\"text-align: right;\">\n",
       "      <th></th>\n",
       "      <th>count</th>\n",
       "      <th>mean</th>\n",
       "      <th>std</th>\n",
       "      <th>min</th>\n",
       "      <th>25%</th>\n",
       "      <th>50%</th>\n",
       "      <th>75%</th>\n",
       "      <th>max</th>\n",
       "    </tr>\n",
       "    <tr>\n",
       "      <th>weekday</th>\n",
       "      <th></th>\n",
       "      <th></th>\n",
       "      <th></th>\n",
       "      <th></th>\n",
       "      <th></th>\n",
       "      <th></th>\n",
       "      <th></th>\n",
       "      <th></th>\n",
       "    </tr>\n",
       "  </thead>\n",
       "  <tbody>\n",
       "    <tr>\n",
       "      <th>0</th>\n",
       "      <td>99.0</td>\n",
       "      <td>5.929293</td>\n",
       "      <td>3.011043</td>\n",
       "      <td>0.0</td>\n",
       "      <td>4.0</td>\n",
       "      <td>6.0</td>\n",
       "      <td>8.0</td>\n",
       "      <td>16.0</td>\n",
       "    </tr>\n",
       "    <tr>\n",
       "      <th>1</th>\n",
       "      <td>99.0</td>\n",
       "      <td>6.101010</td>\n",
       "      <td>3.646343</td>\n",
       "      <td>0.0</td>\n",
       "      <td>4.0</td>\n",
       "      <td>6.0</td>\n",
       "      <td>8.0</td>\n",
       "      <td>26.0</td>\n",
       "    </tr>\n",
       "    <tr>\n",
       "      <th>2</th>\n",
       "      <td>99.0</td>\n",
       "      <td>6.101010</td>\n",
       "      <td>3.042203</td>\n",
       "      <td>0.0</td>\n",
       "      <td>4.0</td>\n",
       "      <td>6.0</td>\n",
       "      <td>8.0</td>\n",
       "      <td>14.0</td>\n",
       "    </tr>\n",
       "    <tr>\n",
       "      <th>3</th>\n",
       "      <td>98.0</td>\n",
       "      <td>6.551020</td>\n",
       "      <td>3.377068</td>\n",
       "      <td>0.0</td>\n",
       "      <td>5.0</td>\n",
       "      <td>6.0</td>\n",
       "      <td>8.0</td>\n",
       "      <td>18.0</td>\n",
       "    </tr>\n",
       "    <tr>\n",
       "      <th>4</th>\n",
       "      <td>98.0</td>\n",
       "      <td>6.163265</td>\n",
       "      <td>3.525149</td>\n",
       "      <td>0.0</td>\n",
       "      <td>4.0</td>\n",
       "      <td>6.0</td>\n",
       "      <td>8.0</td>\n",
       "      <td>18.0</td>\n",
       "    </tr>\n",
       "    <tr>\n",
       "      <th>5</th>\n",
       "      <td>98.0</td>\n",
       "      <td>4.255102</td>\n",
       "      <td>3.720412</td>\n",
       "      <td>0.0</td>\n",
       "      <td>2.0</td>\n",
       "      <td>3.0</td>\n",
       "      <td>6.0</td>\n",
       "      <td>16.0</td>\n",
       "    </tr>\n",
       "    <tr>\n",
       "      <th>6</th>\n",
       "      <td>98.0</td>\n",
       "      <td>3.867347</td>\n",
       "      <td>3.439125</td>\n",
       "      <td>0.0</td>\n",
       "      <td>2.0</td>\n",
       "      <td>3.0</td>\n",
       "      <td>5.0</td>\n",
       "      <td>22.0</td>\n",
       "    </tr>\n",
       "  </tbody>\n",
       "</table>\n",
       "</div>"
      ],
      "text/plain": [
       "         count      mean       std  min  25%  50%  75%   max\n",
       "weekday                                                     \n",
       "0         99.0  5.929293  3.011043  0.0  4.0  6.0  8.0  16.0\n",
       "1         99.0  6.101010  3.646343  0.0  4.0  6.0  8.0  26.0\n",
       "2         99.0  6.101010  3.042203  0.0  4.0  6.0  8.0  14.0\n",
       "3         98.0  6.551020  3.377068  0.0  5.0  6.0  8.0  18.0\n",
       "4         98.0  6.163265  3.525149  0.0  4.0  6.0  8.0  18.0\n",
       "5         98.0  4.255102  3.720412  0.0  2.0  3.0  6.0  16.0\n",
       "6         98.0  3.867347  3.439125  0.0  2.0  3.0  5.0  22.0"
      ]
     },
     "execution_count": 116,
     "metadata": {},
     "output_type": "execute_result"
    }
   ],
   "source": [
    "trips_by_date_2.groupby(['weekday'])['num_trips'].describe()"
   ]
  },
  {
   "cell_type": "markdown",
   "metadata": {},
   "source": [
    "Just for fun, let's plot the number of trips by date so we can actually see the zero days and see that the station appears to have been open for the entire analysis period. Such a plot would be part of the process of determining the analysis timeframe."
   ]
  },
  {
   "cell_type": "code",
   "execution_count": 119,
   "metadata": {},
   "outputs": [],
   "source": [
    "%matplotlib inline"
   ]
  },
  {
   "cell_type": "code",
   "execution_count": 122,
   "metadata": {},
   "outputs": [
    {
     "data": {
      "image/png": "[encoded data removed]",
      "text/plain": [
       "<Figure size 432x288 with 1 Axes>"
      ]
     },
     "metadata": {},
     "output_type": "display_data"
    }
   ],
   "source": [
    "trips_by_date_2.plot(y='num_trips');"
   ]
  },
  {
   "cell_type": "markdown",
   "metadata": {},
   "source": [
    "In this particular case, differences in computed stats, while not huge, are certainly present. Taking zero days into account along with carefully specifying the analysis period of interest are both important in computing temporal statistics such averages and percentiles of number of trips per day.\n",
    "\n",
    "In Part 2 of this post, we'll extend this to cases in which we might want to group by an additional field (e.g. station_id) and see how this problem is just one part of the general problem of doing occupancy analysis based on transaction data. We'll see how the [hillmaker](https://github.com/misken/hillmaker) package can make these types of analyses easier. "
   ]
  },
  {
   "cell_type": "code",
   "execution_count": null,
   "metadata": {},
   "outputs": [],
   "source": []
  },
  {
   "cell_type": "code",
   "execution_count": null,
   "metadata": {},
   "outputs": [],
   "source": []
  }
 ],
 "metadata": {
  "kernelspec": {
   "display_name": "Python 3",
   "language": "python",
   "name": "python3"
  },
  "language_info": {
   "codemirror_mode": {
    "name": "ipython",
    "version": 3
   },
   "file_extension": ".py",
   "mimetype": "text/x-python",
   "name": "python",
   "nbconvert_exporter": "python",
   "pygments_lexer": "ipython3",
   "version": "3.6.5"
  }
 },
 "nbformat": 4,
 "nbformat_minor": 2
}
